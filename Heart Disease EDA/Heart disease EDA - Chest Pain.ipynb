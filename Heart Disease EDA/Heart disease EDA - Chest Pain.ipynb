{
 "cells": [
  {
   "cell_type": "markdown",
   "id": "784c3a3b",
   "metadata": {},
   "source": [
    "# EDA Chest Pain\n",
    "[comment]: <> (by: Matt Bowman)"
   ]
  },
  {
   "cell_type": "code",
   "execution_count": 1,
   "id": "e89d736f",
   "metadata": {},
   "outputs": [],
   "source": [
    "import pandas as pd\n",
    "import numpy as np\n",
    "from matplotlib import pyplot as plt\n",
    "import seaborn as sns\n",
    "from scipy import stats "
   ]
  },
  {
   "cell_type": "markdown",
   "id": "50f9dc1b",
   "metadata": {},
   "source": [
    "## Import"
   ]
  },
  {
   "cell_type": "code",
   "execution_count": 2,
   "id": "f0ad6c93",
   "metadata": {},
   "outputs": [],
   "source": [
    "base_dir = '../EDA/CDC/shotgun_approach/'\n",
    "\n",
    "def import_dataset(name,col_dic=None):\n",
    "    df = pd.read_sas(base_dir+name+'.XPT')\n",
    "    if col_dic==None:\n",
    "        return df\n",
    "    else: \n",
    "        return df[[*col_dic]].rename(columns=col_dic)\n"
   ]
  },
  {
   "cell_type": "code",
   "execution_count": 3,
   "id": "bd014f56",
   "metadata": {},
   "outputs": [],
   "source": [
    "df = pd.read_csv('../Heart Disease Prediction/has_heart_disease.csv')\n",
    "df = df.drop(columns='Unnamed: 0')"
   ]
  },
  {
   "cell_type": "code",
   "execution_count": 4,
   "id": "deb23be4",
   "metadata": {},
   "outputs": [],
   "source": [
    "df_cdq = import_dataset('CDQ_E',{\n",
    "    'SEQN':'SEQN',\n",
    "    'CDQ008':'Chest_pain'\n",
    "})"
   ]
  },
  {
   "cell_type": "code",
   "execution_count": 5,
   "id": "37104df4",
   "metadata": {
    "scrolled": true
   },
   "outputs": [
    {
     "data": {
      "text/html": [
       "<div>\n",
       "<style scoped>\n",
       "    .dataframe tbody tr th:only-of-type {\n",
       "        vertical-align: middle;\n",
       "    }\n",
       "\n",
       "    .dataframe tbody tr th {\n",
       "        vertical-align: top;\n",
       "    }\n",
       "\n",
       "    .dataframe thead th {\n",
       "        text-align: right;\n",
       "    }\n",
       "</style>\n",
       "<table border=\"1\" class=\"dataframe\">\n",
       "  <thead>\n",
       "    <tr style=\"text-align: right;\">\n",
       "      <th></th>\n",
       "      <th>SEQN</th>\n",
       "      <th>Chest_pain</th>\n",
       "    </tr>\n",
       "  </thead>\n",
       "  <tbody>\n",
       "    <tr>\n",
       "      <th>0</th>\n",
       "      <td>41475.0</td>\n",
       "      <td>2.0</td>\n",
       "    </tr>\n",
       "    <tr>\n",
       "      <th>1</th>\n",
       "      <td>41477.0</td>\n",
       "      <td>NaN</td>\n",
       "    </tr>\n",
       "    <tr>\n",
       "      <th>2</th>\n",
       "      <td>41479.0</td>\n",
       "      <td>NaN</td>\n",
       "    </tr>\n",
       "    <tr>\n",
       "      <th>3</th>\n",
       "      <td>41482.0</td>\n",
       "      <td>NaN</td>\n",
       "    </tr>\n",
       "    <tr>\n",
       "      <th>4</th>\n",
       "      <td>41483.0</td>\n",
       "      <td>2.0</td>\n",
       "    </tr>\n",
       "  </tbody>\n",
       "</table>\n",
       "</div>"
      ],
      "text/plain": [
       "      SEQN  Chest_pain\n",
       "0  41475.0         2.0\n",
       "1  41477.0         NaN\n",
       "2  41479.0         NaN\n",
       "3  41482.0         NaN\n",
       "4  41483.0         2.0"
      ]
     },
     "execution_count": 5,
     "metadata": {},
     "output_type": "execute_result"
    }
   ],
   "source": [
    "df_cdq.head()"
   ]
  },
  {
   "cell_type": "markdown",
   "id": "7ed89084",
   "metadata": {},
   "source": [
    "## Checking & Cleaning"
   ]
  },
  {
   "attachments": {
    "image.png": {
     "image/png": "[encoded data removed]"
    }
   },
   "cell_type": "markdown",
   "id": "0f2ece9e",
   "metadata": {},
   "source": [
    "![image.png](attachment:image.png)"
   ]
  },
  {
   "cell_type": "code",
   "execution_count": 6,
   "id": "cfb82c8d",
   "metadata": {},
   "outputs": [
    {
     "data": {
      "text/plain": [
       "array([ 0., nan,  1.])"
      ]
     },
     "execution_count": 6,
     "metadata": {},
     "output_type": "execute_result"
    }
   ],
   "source": [
    "df_cdq['Chest_pain'] = df_cdq['Chest_pain'].replace([2,7,9],[0,np.nan,np.nan])\n",
    "df_cdq['Chest_pain'].unique()"
   ]
  },
  {
   "cell_type": "code",
   "execution_count": 7,
   "id": "d844066c",
   "metadata": {},
   "outputs": [
    {
     "data": {
      "text/html": [
       "<div>\n",
       "<style scoped>\n",
       "    .dataframe tbody tr th:only-of-type {\n",
       "        vertical-align: middle;\n",
       "    }\n",
       "\n",
       "    .dataframe tbody tr th {\n",
       "        vertical-align: top;\n",
       "    }\n",
       "\n",
       "    .dataframe thead th {\n",
       "        text-align: right;\n",
       "    }\n",
       "</style>\n",
       "<table border=\"1\" class=\"dataframe\">\n",
       "  <thead>\n",
       "    <tr style=\"text-align: right;\">\n",
       "      <th></th>\n",
       "      <th>SEQN</th>\n",
       "      <th>Chest_pain</th>\n",
       "    </tr>\n",
       "  </thead>\n",
       "  <tbody>\n",
       "    <tr>\n",
       "      <th>0</th>\n",
       "      <td>41475.0</td>\n",
       "      <td>0.0</td>\n",
       "    </tr>\n",
       "    <tr>\n",
       "      <th>1</th>\n",
       "      <td>41477.0</td>\n",
       "      <td>NaN</td>\n",
       "    </tr>\n",
       "    <tr>\n",
       "      <th>2</th>\n",
       "      <td>41479.0</td>\n",
       "      <td>NaN</td>\n",
       "    </tr>\n",
       "  </tbody>\n",
       "</table>\n",
       "</div>"
      ],
      "text/plain": [
       "      SEQN  Chest_pain\n",
       "0  41475.0         0.0\n",
       "1  41477.0         NaN\n",
       "2  41479.0         NaN"
      ]
     },
     "execution_count": 7,
     "metadata": {},
     "output_type": "execute_result"
    }
   ],
   "source": [
    "df_cdq.head(3)"
   ]
  },
  {
   "cell_type": "code",
   "execution_count": 8,
   "id": "9d5f84a4",
   "metadata": {},
   "outputs": [
    {
     "data": {
      "text/html": [
       "<div>\n",
       "<style scoped>\n",
       "    .dataframe tbody tr th:only-of-type {\n",
       "        vertical-align: middle;\n",
       "    }\n",
       "\n",
       "    .dataframe tbody tr th {\n",
       "        vertical-align: top;\n",
       "    }\n",
       "\n",
       "    .dataframe thead th {\n",
       "        text-align: right;\n",
       "    }\n",
       "</style>\n",
       "<table border=\"1\" class=\"dataframe\">\n",
       "  <thead>\n",
       "    <tr style=\"text-align: right;\">\n",
       "      <th></th>\n",
       "      <th>SEQN</th>\n",
       "      <th>HasHeartDisease</th>\n",
       "      <th>Chest_pain</th>\n",
       "    </tr>\n",
       "  </thead>\n",
       "  <tbody>\n",
       "    <tr>\n",
       "      <th>0</th>\n",
       "      <td>41475.0</td>\n",
       "      <td>0</td>\n",
       "      <td>0.0</td>\n",
       "    </tr>\n",
       "    <tr>\n",
       "      <th>1</th>\n",
       "      <td>41477.0</td>\n",
       "      <td>0</td>\n",
       "      <td>NaN</td>\n",
       "    </tr>\n",
       "    <tr>\n",
       "      <th>2</th>\n",
       "      <td>41479.0</td>\n",
       "      <td>0</td>\n",
       "      <td>NaN</td>\n",
       "    </tr>\n",
       "    <tr>\n",
       "      <th>3</th>\n",
       "      <td>41482.0</td>\n",
       "      <td>0</td>\n",
       "      <td>NaN</td>\n",
       "    </tr>\n",
       "    <tr>\n",
       "      <th>4</th>\n",
       "      <td>41483.0</td>\n",
       "      <td>0</td>\n",
       "      <td>0.0</td>\n",
       "    </tr>\n",
       "    <tr>\n",
       "      <th>...</th>\n",
       "      <td>...</td>\n",
       "      <td>...</td>\n",
       "      <td>...</td>\n",
       "    </tr>\n",
       "    <tr>\n",
       "      <th>3993</th>\n",
       "      <td>51618.0</td>\n",
       "      <td>0</td>\n",
       "      <td>0.0</td>\n",
       "    </tr>\n",
       "    <tr>\n",
       "      <th>3994</th>\n",
       "      <td>51619.0</td>\n",
       "      <td>0</td>\n",
       "      <td>NaN</td>\n",
       "    </tr>\n",
       "    <tr>\n",
       "      <th>3995</th>\n",
       "      <td>51620.0</td>\n",
       "      <td>0</td>\n",
       "      <td>NaN</td>\n",
       "    </tr>\n",
       "    <tr>\n",
       "      <th>3996</th>\n",
       "      <td>51622.0</td>\n",
       "      <td>0</td>\n",
       "      <td>NaN</td>\n",
       "    </tr>\n",
       "    <tr>\n",
       "      <th>3997</th>\n",
       "      <td>51623.0</td>\n",
       "      <td>1</td>\n",
       "      <td>NaN</td>\n",
       "    </tr>\n",
       "  </tbody>\n",
       "</table>\n",
       "<p>3998 rows × 3 columns</p>\n",
       "</div>"
      ],
      "text/plain": [
       "         SEQN  HasHeartDisease  Chest_pain\n",
       "0     41475.0                0         0.0\n",
       "1     41477.0                0         NaN\n",
       "2     41479.0                0         NaN\n",
       "3     41482.0                0         NaN\n",
       "4     41483.0                0         0.0\n",
       "...       ...              ...         ...\n",
       "3993  51618.0                0         0.0\n",
       "3994  51619.0                0         NaN\n",
       "3995  51620.0                0         NaN\n",
       "3996  51622.0                0         NaN\n",
       "3997  51623.0                1         NaN\n",
       "\n",
       "[3998 rows x 3 columns]"
      ]
     },
     "execution_count": 8,
     "metadata": {},
     "output_type": "execute_result"
    }
   ],
   "source": [
    "df_merge = df.merge(right=df_cdq,on='SEQN',how='inner')\n",
    "df_merge"
   ]
  },
  {
   "cell_type": "markdown",
   "id": "51192e13",
   "metadata": {},
   "source": [
    "## Visualising Relationship"
   ]
  },
  {
   "cell_type": "code",
   "execution_count": 9,
   "id": "cdcc5b86",
   "metadata": {},
   "outputs": [
    {
     "data": {
      "text/plain": [
       "HasHeartDisease    1.000000\n",
       "Chest_pain         0.220461\n",
       "Name: HasHeartDisease, dtype: float64"
      ]
     },
     "execution_count": 9,
     "metadata": {},
     "output_type": "execute_result"
    }
   ],
   "source": [
    "df_merge.drop(columns='SEQN').corr()['HasHeartDisease']"
   ]
  },
  {
   "cell_type": "code",
   "execution_count": null,
   "id": "451633bf",
   "metadata": {},
   "outputs": [],
   "source": []
  },
  {
   "attachments": {
    "image.png": {
     "image/png": "[encoded data removed]"
    }
   },
   "cell_type": "markdown",
   "id": "5dc2b70a",
   "metadata": {},
   "source": [
    "![image.png](attachment:image.png)"
   ]
  },
  {
   "cell_type": "code",
   "execution_count": 31,
   "id": "33df51cb",
   "metadata": {},
   "outputs": [
    {
     "data": {
      "text/plain": [
       "Text(0.5, 1.0, 'Chest Pain')"
      ]
     },
     "execution_count": 31,
     "metadata": {},
     "output_type": "execute_result"
    },
    {
     "data": {
      "image/png": "[encoded data removed]",
      "text/plain": [
       "<Figure size 432x288 with 2 Axes>"
      ]
     },
     "metadata": {
      "needs_background": "light"
     },
     "output_type": "display_data"
    }
   ],
   "source": [
    "# df_merge['HasHeartDisease'].hist(df_merge['Chest_pain']==1,density=True,set_ylim=[10,10])\n",
    "\n",
    "df_have_chest_pain = df_merge.loc[df_merge['Chest_pain']==1,'HasHeartDisease']\n",
    "df_no_chest_pain = df_merge.loc[df_merge['Chest_pain']==0,'HasHeartDisease']\n",
    "\n",
    "fig, (ax1,ax2) = plt.subplots(1,2,sharey=True) # (row, column, index)\n",
    "ax1.hist(df_no_chest_pain,density=True)\n",
    "ax1.grid(True)\n",
    "ax1.set_title('No Chest Pain')\n",
    "ax2.hist(df_have_chest_pain,density=True)\n",
    "ax2.set_ylim([0,10])\n",
    "ax2.grid(True)\n",
    "ax2.set_title('Chest Pain')"
   ]
  },
  {
   "cell_type": "code",
   "execution_count": 32,
   "id": "a0ac97c5",
   "metadata": {},
   "outputs": [
    {
     "data": {
      "text/plain": [
       "Chest_pain  HasHeartDisease\n",
       "0.0         0                  709\n",
       "            1                   82\n",
       "1.0         0                  197\n",
       "            1                   78\n",
       "Name: HasHeartDisease, dtype: int64"
      ]
     },
     "execution_count": 32,
     "metadata": {},
     "output_type": "execute_result"
    }
   ],
   "source": [
    "df_merge.drop(columns='SEQN').groupby(by='Chest_pain', dropna=True)['HasHeartDisease'].value_counts(normalize=False)"
   ]
  },
  {
   "cell_type": "markdown",
   "id": "df530efb",
   "metadata": {},
   "source": [
    "Below is a normalised table. i.e. values are percentage split between each subgroup: "
   ]
  },
  {
   "cell_type": "code",
   "execution_count": 33,
   "id": "5131ad81",
   "metadata": {
    "scrolled": true
   },
   "outputs": [
    {
     "data": {
      "text/plain": [
       "Chest_pain  HasHeartDisease\n",
       "0.0         0                  0.90\n",
       "            1                  0.10\n",
       "1.0         0                  0.72\n",
       "            1                  0.28\n",
       "Name: HasHeartDisease, dtype: float64"
      ]
     },
     "execution_count": 33,
     "metadata": {},
     "output_type": "execute_result"
    }
   ],
   "source": [
    "df_merge.drop(columns='SEQN').groupby(by='Chest_pain', dropna=True)['HasHeartDisease'].value_counts(normalize=True).round(2)"
   ]
  },
  {
   "cell_type": "code",
   "execution_count": 34,
   "id": "514f48b3",
   "metadata": {},
   "outputs": [
    {
     "name": "stdout",
     "output_type": "stream",
     "text": [
      "The total count of people with or without chest pain (excluding NaNs) is 1066\n"
     ]
    }
   ],
   "source": [
    "# Selfchecking values\n",
    "total_count = df_merge['Chest_pain'].dropna().shape[0]\n",
    "print(f'The total count of people with or without chest pain (excluding NaNs) is {total_count}')"
   ]
  },
  {
   "cell_type": "markdown",
   "id": "622b8356",
   "metadata": {},
   "source": [
    "**Key features we are seeing here are:** \n",
    "* It is hard to tell if you have chest pain are you more likely to have heart disease"
   ]
  },
  {
   "cell_type": "markdown",
   "id": "ab12d447",
   "metadata": {},
   "source": [
    "No need for proportion test given the distribution is clear. "
   ]
  },
  {
   "cell_type": "code",
   "execution_count": null,
   "id": "33e65bc6",
   "metadata": {},
   "outputs": [],
   "source": []
  }
 ],
 "metadata": {
  "kernelspec": {
   "display_name": "Python 3",
   "language": "python",
   "name": "python3"
  },
  "language_info": {
   "codemirror_mode": {
    "name": "ipython",
    "version": 3
   },
   "file_extension": ".py",
   "mimetype": "text/x-python",
   "name": "python",
   "nbconvert_exporter": "python",
   "pygments_lexer": "ipython3",
   "version": "3.9.4"
  }
 },
 "nbformat": 4,
 "nbformat_minor": 5
}
