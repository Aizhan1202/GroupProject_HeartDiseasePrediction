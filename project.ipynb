{
 "cells": [
  {
   "cell_type": "markdown",
   "id": "starting-surgery",
   "metadata": {},
   "source": [
    " data source:\n",
    " https://gis.cdc.gov/grasp/diabetes/DiabetesAtlas.html#"
   ]
  },
  {
   "cell_type": "code",
   "execution_count": 6,
   "id": "funky-possibility",
   "metadata": {},
   "outputs": [
    {
     "data": {
      "text/html": [
       "<table class=\"dataframe\">\n",
       "<caption>A data.frame: 6 × 17</caption>\n",
       "<thead>\n",
       "\t<tr><th></th><th scope=col>yearid</th><th scope=col>fipscode</th><th scope=col>raceid</th><th scope=col>ageid</th><th scope=col>genderid</th><th scope=col>educationid</th><th scope=col>indicatorid</th><th scope=col>miscid</th><th scope=col>datasourceid</th><th scope=col>estimateid</th><th scope=col>SuppressID</th><th scope=col>datasetid</th><th scope=col>GeoLevel</th><th scope=col>Estimate</th><th scope=col>SeEstimate</th><th scope=col>LowerLimit</th><th scope=col>UpperLimit</th></tr>\n",
       "\t<tr><th></th><th scope=col>&lt;int&gt;</th><th scope=col>&lt;int&gt;</th><th scope=col>&lt;int&gt;</th><th scope=col>&lt;int&gt;</th><th scope=col>&lt;int&gt;</th><th scope=col>&lt;int&gt;</th><th scope=col>&lt;int&gt;</th><th scope=col>&lt;int&gt;</th><th scope=col>&lt;int&gt;</th><th scope=col>&lt;int&gt;</th><th scope=col>&lt;int&gt;</th><th scope=col>&lt;int&gt;</th><th scope=col>&lt;chr&gt;</th><th scope=col>&lt;chr&gt;</th><th scope=col>&lt;chr&gt;</th><th scope=col>&lt;chr&gt;</th><th scope=col>&lt;chr&gt;</th></tr>\n",
       "</thead>\n",
       "<tbody>\n",
       "\t<tr><th scope=row>1</th><td>1980</td><td>-1</td><td>0</td><td>5</td><td>0</td><td>0</td><td>1</td><td>0</td><td>30</td><td> 61</td><td>0</td><td>40</td><td>National</td><td>1   </td><td>0.1</td><td>0.9 </td><td>1.2 </td></tr>\n",
       "\t<tr><th scope=row>2</th><td>1980</td><td>-1</td><td>0</td><td>5</td><td>0</td><td>0</td><td>1</td><td>0</td><td>30</td><td>101</td><td>0</td><td>40</td><td>National</td><td>915 </td><td>76 </td><td>764 </td><td>1065</td></tr>\n",
       "\t<tr><th scope=row>3</th><td>1980</td><td>-1</td><td>0</td><td>6</td><td>0</td><td>0</td><td>1</td><td>0</td><td> 3</td><td> 61</td><td>0</td><td> 3</td><td>National</td><td>5.4 </td><td>0.3</td><td>4.8 </td><td>6   </td></tr>\n",
       "\t<tr><th scope=row>4</th><td>1980</td><td>-1</td><td>0</td><td>6</td><td>0</td><td>0</td><td>1</td><td>0</td><td> 3</td><td>101</td><td>0</td><td> 3</td><td>National</td><td>2337</td><td>143</td><td>2054</td><td>2621</td></tr>\n",
       "\t<tr><th scope=row>5</th><td>1980</td><td>-1</td><td>0</td><td>6</td><td>0</td><td>0</td><td>1</td><td>0</td><td>30</td><td> 61</td><td>0</td><td>40</td><td>National</td><td>5.4 </td><td>0.3</td><td>4.8 </td><td>6   </td></tr>\n",
       "\t<tr><th scope=row>6</th><td>1980</td><td>-1</td><td>0</td><td>6</td><td>0</td><td>0</td><td>1</td><td>0</td><td>30</td><td>101</td><td>0</td><td>40</td><td>National</td><td>2337</td><td>143</td><td>2054</td><td>2621</td></tr>\n",
       "</tbody>\n",
       "</table>\n"
      ],
      "text/latex": [
       "A data.frame: 6 × 17\n",
       "\\begin{tabular}{r|lllllllllllllllll}\n",
       "  & yearid & fipscode & raceid & ageid & genderid & educationid & indicatorid & miscid & datasourceid & estimateid & SuppressID & datasetid & GeoLevel & Estimate & SeEstimate & LowerLimit & UpperLimit\\\\\n",
       "  & <int> & <int> & <int> & <int> & <int> & <int> & <int> & <int> & <int> & <int> & <int> & <int> & <chr> & <chr> & <chr> & <chr> & <chr>\\\\\n",
       "\\hline\n",
       "\t1 & 1980 & -1 & 0 & 5 & 0 & 0 & 1 & 0 & 30 &  61 & 0 & 40 & National & 1    & 0.1 & 0.9  & 1.2 \\\\\n",
       "\t2 & 1980 & -1 & 0 & 5 & 0 & 0 & 1 & 0 & 30 & 101 & 0 & 40 & National & 915  & 76  & 764  & 1065\\\\\n",
       "\t3 & 1980 & -1 & 0 & 6 & 0 & 0 & 1 & 0 &  3 &  61 & 0 &  3 & National & 5.4  & 0.3 & 4.8  & 6   \\\\\n",
       "\t4 & 1980 & -1 & 0 & 6 & 0 & 0 & 1 & 0 &  3 & 101 & 0 &  3 & National & 2337 & 143 & 2054 & 2621\\\\\n",
       "\t5 & 1980 & -1 & 0 & 6 & 0 & 0 & 1 & 0 & 30 &  61 & 0 & 40 & National & 5.4  & 0.3 & 4.8  & 6   \\\\\n",
       "\t6 & 1980 & -1 & 0 & 6 & 0 & 0 & 1 & 0 & 30 & 101 & 0 & 40 & National & 2337 & 143 & 2054 & 2621\\\\\n",
       "\\end{tabular}\n"
      ],
      "text/markdown": [
       "\n",
       "A data.frame: 6 × 17\n",
       "\n",
       "| <!--/--> | yearid &lt;int&gt; | fipscode &lt;int&gt; | raceid &lt;int&gt; | ageid &lt;int&gt; | genderid &lt;int&gt; | educationid &lt;int&gt; | indicatorid &lt;int&gt; | miscid &lt;int&gt; | datasourceid &lt;int&gt; | estimateid &lt;int&gt; | SuppressID &lt;int&gt; | datasetid &lt;int&gt; | GeoLevel &lt;chr&gt; | Estimate &lt;chr&gt; | SeEstimate &lt;chr&gt; | LowerLimit &lt;chr&gt; | UpperLimit &lt;chr&gt; |\n",
       "|---|---|---|---|---|---|---|---|---|---|---|---|---|---|---|---|---|---|\n",
       "| 1 | 1980 | -1 | 0 | 5 | 0 | 0 | 1 | 0 | 30 |  61 | 0 | 40 | National | 1    | 0.1 | 0.9  | 1.2  |\n",
       "| 2 | 1980 | -1 | 0 | 5 | 0 | 0 | 1 | 0 | 30 | 101 | 0 | 40 | National | 915  | 76  | 764  | 1065 |\n",
       "| 3 | 1980 | -1 | 0 | 6 | 0 | 0 | 1 | 0 |  3 |  61 | 0 |  3 | National | 5.4  | 0.3 | 4.8  | 6    |\n",
       "| 4 | 1980 | -1 | 0 | 6 | 0 | 0 | 1 | 0 |  3 | 101 | 0 |  3 | National | 2337 | 143 | 2054 | 2621 |\n",
       "| 5 | 1980 | -1 | 0 | 6 | 0 | 0 | 1 | 0 | 30 |  61 | 0 | 40 | National | 5.4  | 0.3 | 4.8  | 6    |\n",
       "| 6 | 1980 | -1 | 0 | 6 | 0 | 0 | 1 | 0 | 30 | 101 | 0 | 40 | National | 2337 | 143 | 2054 | 2621 |\n",
       "\n"
      ],
      "text/plain": [
       "  yearid fipscode raceid ageid genderid educationid indicatorid miscid\n",
       "1 1980   -1       0      5     0        0           1           0     \n",
       "2 1980   -1       0      5     0        0           1           0     \n",
       "3 1980   -1       0      6     0        0           1           0     \n",
       "4 1980   -1       0      6     0        0           1           0     \n",
       "5 1980   -1       0      6     0        0           1           0     \n",
       "6 1980   -1       0      6     0        0           1           0     \n",
       "  datasourceid estimateid SuppressID datasetid GeoLevel Estimate SeEstimate\n",
       "1 30            61        0          40        National 1        0.1       \n",
       "2 30           101        0          40        National 915      76        \n",
       "3  3            61        0           3        National 5.4      0.3       \n",
       "4  3           101        0           3        National 2337     143       \n",
       "5 30            61        0          40        National 5.4      0.3       \n",
       "6 30           101        0          40        National 2337     143       \n",
       "  LowerLimit UpperLimit\n",
       "1 0.9        1.2       \n",
       "2 764        1065      \n",
       "3 4.8        6         \n",
       "4 2054       2621      \n",
       "5 4.8        6         \n",
       "6 2054       2621      "
      ]
     },
     "metadata": {},
     "output_type": "display_data"
    },
    {
     "data": {
      "text/html": [
       "29102"
      ],
      "text/latex": [
       "29102"
      ],
      "text/markdown": [
       "29102"
      ],
      "text/plain": [
       "[1] 29102"
      ]
     },
     "metadata": {},
     "output_type": "display_data"
    },
    {
     "data": {
      "text/html": [
       "17"
      ],
      "text/latex": [
       "17"
      ],
      "text/markdown": [
       "17"
      ],
      "text/plain": [
       "[1] 17"
      ]
     },
     "metadata": {},
     "output_type": "display_data"
    }
   ],
   "source": [
    "initial_data = read.csv(file = 'National_Data.csv')\n",
    "head(initial_data)\n",
    "nrow(initial_data)\n",
    "ncol(initial_data)"
   ]
  },
  {
   "cell_type": "code",
   "execution_count": 29,
   "id": "swedish-young",
   "metadata": {},
   "outputs": [],
   "source": [
    "library(dplyr)"
   ]
  },
  {
   "cell_type": "code",
   "execution_count": 35,
   "id": "arbitrary-ireland",
   "metadata": {},
   "outputs": [],
   "source": [
    "## yearid\n",
    "## 3000 <= 1988-1994\n",
    "## 3001 <= 1995-1998\n",
    "year_freq = table(initial_data$yearid)\n",
    "frame_year_freq = as.data.frame(year_freq)\n",
    "# year_freq\n",
    "# frame_year_freq"
   ]
  },
  {
   "cell_type": "code",
   "execution_count": 22,
   "id": "liable-russia",
   "metadata": {},
   "outputs": [
    {
     "data": {
      "text/html": [
       "0"
      ],
      "text/latex": [
       "0"
      ],
      "text/markdown": [
       "0"
      ],
      "text/plain": [
       "[1] 0"
      ]
     },
     "metadata": {},
     "output_type": "display_data"
    }
   ],
   "source": [
    "## fipscode\n",
    "## we can say all fipscode=-1  \n",
    "## national\n",
    "fipscode_expect = initial_data[initial_data$fipscode != -1,]\n",
    "nrow(fipscode_expect)"
   ]
  },
  {
   "cell_type": "code",
   "execution_count": 32,
   "id": "aware-toyota",
   "metadata": {},
   "outputs": [
    {
     "data": {
      "text/html": [
       "84"
      ],
      "text/latex": [
       "84"
      ],
      "text/markdown": [
       "84"
      ],
      "text/plain": [
       "[1] 84"
      ]
     },
     "metadata": {},
     "output_type": "display_data"
    },
    {
     "data": {
      "text/plain": [
       "\n",
       "    0     1     2     3     4     7     8     9    10    19 \n",
       "22862  1568  1568   988   200  1376   180   180    84    96 "
      ]
     },
     "metadata": {},
     "output_type": "display_data"
    }
   ],
   "source": [
    "## raceid\n",
    "race_freq = table(initial_data$raceid)\n",
    "race_freq"
   ]
  },
  {
   "cell_type": "code",
   "execution_count": 36,
   "id": "induced-native",
   "metadata": {},
   "outputs": [
    {
     "data": {
      "text/plain": [
       "\n",
       "    1     3     4     5     6     7     8     9    23    24    25    26    27 \n",
       "   40    54   118  1685  1977  1957  1997   292    80    72    72    72    72 \n",
       "   34    35    36    37    38    39    99   100 \n",
       "   64    64    64    64    64    64 11989  8241 "
      ]
     },
     "metadata": {},
     "output_type": "display_data"
    }
   ],
   "source": [
    "## ageid\n",
    "## see note (age-line)\n",
    "age_freq = table(initial_data$ageid)\n",
    "age_freq"
   ]
  },
  {
   "cell_type": "code",
   "execution_count": 37,
   "id": "physical-honolulu",
   "metadata": {},
   "outputs": [
    {
     "data": {
      "text/plain": [
       "\n",
       "    0     1     2 \n",
       "22306  3398  3398 "
      ]
     },
     "metadata": {},
     "output_type": "display_data"
    }
   ],
   "source": [
    "## genderid\n",
    "## 1=male 2=female\n",
    "gend_freq = table(initial_data$genderid)\n",
    "gend_freq"
   ]
  },
  {
   "cell_type": "code",
   "execution_count": 38,
   "id": "protecting-literacy",
   "metadata": {},
   "outputs": [
    {
     "data": {
      "text/plain": [
       "\n",
       "    0     1     2     3 \n",
       "26000  1034  1034  1034 "
      ]
     },
     "metadata": {},
     "output_type": "display_data"
    }
   ],
   "source": [
    "## educationid\n",
    "## 1=male 2=female\n",
    "edu_freq = table(initial_data$educationid)\n",
    "edu_freq"
   ]
  },
  {
   "cell_type": "code",
   "execution_count": 41,
   "id": "centered-castle",
   "metadata": {},
   "outputs": [
    {
     "data": {
      "text/html": [
       "38"
      ],
      "text/latex": [
       "38"
      ],
      "text/markdown": [
       "38"
      ],
      "text/plain": [
       "[1] 38"
      ]
     },
     "metadata": {},
     "output_type": "display_data"
    }
   ],
   "source": [
    "## indicatorid\n",
    "## diabetes-related topic\n",
    "indi_freq = table(initial_data$indicatorid)\n",
    "nrow(as.data.frame(indi_freq))"
   ]
  },
  {
   "cell_type": "code",
   "execution_count": 44,
   "id": "inside-decade",
   "metadata": {},
   "outputs": [
    {
     "data": {
      "text/html": [
       "28"
      ],
      "text/latex": [
       "28"
      ],
      "text/markdown": [
       "28"
      ],
      "text/plain": [
       "[1] 28"
      ]
     },
     "metadata": {},
     "output_type": "display_data"
    }
   ],
   "source": [
    "## miscid  == levels with the indicator\n",
    "misc_freq = table(initial_data$miscid)\n",
    "nrow(as.data.frame(misc_freq))"
   ]
  },
  {
   "cell_type": "code",
   "execution_count": 58,
   "id": "geological-intermediate",
   "metadata": {},
   "outputs": [],
   "source": [
    "## estimateid  == data type\n",
    "esti_freq = table(initial_data$estimateid)\n",
    "## as.data.frame(esti_freq)\n",
    "## 6 <== percentage"
   ]
  },
  {
   "cell_type": "code",
   "execution_count": 60,
   "id": "detected-function",
   "metadata": {},
   "outputs": [
    {
     "data": {
      "text/html": [
       "<table class=\"dataframe\">\n",
       "<caption>A data.frame: 2 × 2</caption>\n",
       "<thead>\n",
       "\t<tr><th scope=col>Var1</th><th scope=col>Freq</th></tr>\n",
       "\t<tr><th scope=col>&lt;fct&gt;</th><th scope=col>&lt;int&gt;</th></tr>\n",
       "</thead>\n",
       "<tbody>\n",
       "\t<tr><td>0</td><td>28504</td></tr>\n",
       "\t<tr><td>1</td><td>  598</td></tr>\n",
       "</tbody>\n",
       "</table>\n"
      ],
      "text/latex": [
       "A data.frame: 2 × 2\n",
       "\\begin{tabular}{ll}\n",
       " Var1 & Freq\\\\\n",
       " <fct> & <int>\\\\\n",
       "\\hline\n",
       "\t 0 & 28504\\\\\n",
       "\t 1 &   598\\\\\n",
       "\\end{tabular}\n"
      ],
      "text/markdown": [
       "\n",
       "A data.frame: 2 × 2\n",
       "\n",
       "| Var1 &lt;fct&gt; | Freq &lt;int&gt; |\n",
       "|---|---|\n",
       "| 0 | 28504 |\n",
       "| 1 |   598 |\n",
       "\n"
      ],
      "text/plain": [
       "  Var1 Freq \n",
       "1 0    28504\n",
       "2 1      598"
      ]
     },
     "metadata": {},
     "output_type": "display_data"
    }
   ],
   "source": [
    "## suppressid\n",
    "## 1=suppressed 0=not\n",
    "# not sure this is useful column\n",
    "supp_freq = table(initial_data$SuppressID)\n",
    "as.data.frame(supp_freq)"
   ]
  },
  {
   "cell_type": "code",
   "execution_count": 61,
   "id": "homeless-enterprise",
   "metadata": {},
   "outputs": [
    {
     "data": {
      "text/html": [
       "<table class=\"dataframe\">\n",
       "<caption>A data.frame: 10 × 2</caption>\n",
       "<thead>\n",
       "\t<tr><th scope=col>Var1</th><th scope=col>Freq</th></tr>\n",
       "\t<tr><th scope=col>&lt;fct&gt;</th><th scope=col>&lt;int&gt;</th></tr>\n",
       "</thead>\n",
       "<tbody>\n",
       "\t<tr><td>3 </td><td> 1102</td></tr>\n",
       "\t<tr><td>14</td><td>14986</td></tr>\n",
       "\t<tr><td>24</td><td> 1944</td></tr>\n",
       "\t<tr><td>26</td><td> 1922</td></tr>\n",
       "\t<tr><td>29</td><td> 2088</td></tr>\n",
       "\t<tr><td>31</td><td> 1876</td></tr>\n",
       "\t<tr><td>33</td><td> 1996</td></tr>\n",
       "\t<tr><td>35</td><td>  880</td></tr>\n",
       "\t<tr><td>40</td><td> 1444</td></tr>\n",
       "\t<tr><td>55</td><td>  864</td></tr>\n",
       "</tbody>\n",
       "</table>\n"
      ],
      "text/latex": [
       "A data.frame: 10 × 2\n",
       "\\begin{tabular}{ll}\n",
       " Var1 & Freq\\\\\n",
       " <fct> & <int>\\\\\n",
       "\\hline\n",
       "\t 3  &  1102\\\\\n",
       "\t 14 & 14986\\\\\n",
       "\t 24 &  1944\\\\\n",
       "\t 26 &  1922\\\\\n",
       "\t 29 &  2088\\\\\n",
       "\t 31 &  1876\\\\\n",
       "\t 33 &  1996\\\\\n",
       "\t 35 &   880\\\\\n",
       "\t 40 &  1444\\\\\n",
       "\t 55 &   864\\\\\n",
       "\\end{tabular}\n"
      ],
      "text/markdown": [
       "\n",
       "A data.frame: 10 × 2\n",
       "\n",
       "| Var1 &lt;fct&gt; | Freq &lt;int&gt; |\n",
       "|---|---|\n",
       "| 3  |  1102 |\n",
       "| 14 | 14986 |\n",
       "| 24 |  1944 |\n",
       "| 26 |  1922 |\n",
       "| 29 |  2088 |\n",
       "| 31 |  1876 |\n",
       "| 33 |  1996 |\n",
       "| 35 |   880 |\n",
       "| 40 |  1444 |\n",
       "| 55 |   864 |\n",
       "\n"
      ],
      "text/plain": [
       "   Var1 Freq \n",
       "1  3     1102\n",
       "2  14   14986\n",
       "3  24    1944\n",
       "4  26    1922\n",
       "5  29    2088\n",
       "6  31    1876\n",
       "7  33    1996\n",
       "8  35     880\n",
       "9  40    1444\n",
       "10 55     864"
      ]
     },
     "metadata": {},
     "output_type": "display_data"
    }
   ],
   "source": [
    "## datasetid\n",
    "## description of population\n",
    "popu_freq = table(initial_data$datasetid)\n",
    "as.data.frame(popu_freq)"
   ]
  },
  {
   "cell_type": "code",
   "execution_count": 62,
   "id": "forward-recipe",
   "metadata": {},
   "outputs": [
    {
     "data": {
      "text/html": [
       "<table class=\"dataframe\">\n",
       "<caption>A data.frame: 1 × 2</caption>\n",
       "<thead>\n",
       "\t<tr><th scope=col>Var1</th><th scope=col>Freq</th></tr>\n",
       "\t<tr><th scope=col>&lt;fct&gt;</th><th scope=col>&lt;int&gt;</th></tr>\n",
       "</thead>\n",
       "<tbody>\n",
       "\t<tr><td>National</td><td>29102</td></tr>\n",
       "</tbody>\n",
       "</table>\n"
      ],
      "text/latex": [
       "A data.frame: 1 × 2\n",
       "\\begin{tabular}{ll}\n",
       " Var1 & Freq\\\\\n",
       " <fct> & <int>\\\\\n",
       "\\hline\n",
       "\t National & 29102\\\\\n",
       "\\end{tabular}\n"
      ],
      "text/markdown": [
       "\n",
       "A data.frame: 1 × 2\n",
       "\n",
       "| Var1 &lt;fct&gt; | Freq &lt;int&gt; |\n",
       "|---|---|\n",
       "| National | 29102 |\n",
       "\n"
      ],
      "text/plain": [
       "  Var1     Freq \n",
       "1 National 29102"
      ]
     },
     "metadata": {},
     "output_type": "display_data"
    }
   ],
   "source": [
    "## geolevel  == all national\n",
    "# useless\n",
    "geo_freq = table(initial_data$GeoLevel)\n",
    "# as.data.frame(geo_freq)"
   ]
  },
  {
   "cell_type": "code",
   "execution_count": 64,
   "id": "stuck-pressing",
   "metadata": {},
   "outputs": [],
   "source": [
    "## estimate\n",
    "## data for the estimateid type\n",
    "\n",
    "## seestimate\n",
    "## standard error of the estimate\n",
    "\n",
    "## lowerlimit + upperlimit"
   ]
  },
  {
   "cell_type": "code",
   "execution_count": null,
   "id": "valid-carol",
   "metadata": {},
   "outputs": [],
   "source": []
  }
 ],
 "metadata": {
  "kernelspec": {
   "display_name": "R",
   "language": "R",
   "name": "ir"
  },
  "language_info": {
   "codemirror_mode": "r",
   "file_extension": ".r",
   "mimetype": "text/x-r-source",
   "name": "R",
   "pygments_lexer": "r",
   "version": "4.0.4"
  }
 },
 "nbformat": 4,
 "nbformat_minor": 5
}
